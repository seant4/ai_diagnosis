{
 "cells": [
  {
   "cell_type": "code",
   "execution_count": 5,
   "id": "f86df588",
   "metadata": {},
   "outputs": [],
   "source": [
    "import numpy as np\n",
    "import pandas as pd\n",
    "from keras.utils import to_categorical\n",
    "import matplotlib.pyplot as plt\n",
    "from sklearn.model_selection import train_test_split, cross_val_score\n",
    "from sklearn.ensemble import RandomForestClassifier\n",
    "from sklearn.metrics import accuracy_score\n",
    "import tensorflow as tf\n",
    "import sklearn"
   ]
  },
  {
   "cell_type": "code",
   "execution_count": 58,
   "id": "0f564a6c",
   "metadata": {
    "scrolled": true
   },
   "outputs": [
    {
     "name": "stderr",
     "output_type": "stream",

    }
   ],
   "source": [
    "data = pd.read_csv('data/dataset.csv')\n",
    "data['Symptoms']=0\n",
    "records = data.shape[0]\n",
    "for i in range(records):\n",
    "    values = data.iloc[i].values\n",
    "    values = values.tolist()\n",
    "    if 0 in values:\n",
    "        data[\"Symptoms\"][i]=values[1:values.index(0)]\n",
    "    else:\n",
    "        data[\"Symptoms\"][i]=values[1:]\n",
    "column_values = data[['Symptom_1', 'Symptom_2', 'Symptom_3', 'Symptom_4',\n",
    "       'Symptom_5', 'Symptom_6', 'Symptom_7', 'Symptom_8', 'Symptom_9',\n",
    "       'Symptom_10', 'Symptom_11', 'Symptom_12', 'Symptom_13', 'Symptom_14',\n",
    "       'Symptom_15', 'Symptom_16', 'Symptom_17']].values.ravel()\n",
    "symps = pd.unique(column_values)\n",
    "symps = symps.tolist()\n",
    "symps = [i for i in symps if str(i) != \"nan\"]\n",
    "symptoms = pd.DataFrame(columns = symps, index = data.index)\n",
    "symptoms[\"Symptoms\"] = data[\"Symptoms\"]\n",
    "for i in symps:\n",
    "    symptoms[i] = symptoms.apply(lambda x:1 if i in x.Symptoms else 0, axis=1)\n",
    "symptoms[\"Disease\"] = data[\"Disease\"]\n",
    "symptoms = symptoms.drop(\"Symptoms\",axis=1)\n",
    "train, test = train_test_split(symptoms,test_size=0.2)\n",
    "x_train = train.drop(\"Disease\",axis=1)\n",
    "y_train = train[\"Disease\"].copy()\n",
    "x_test = test.drop(\"Disease\",axis=1)\n",
    "y_test = test[\"Disease\"].copy()"
   ]
  },
  {
   "cell_type": "code",
   "execution_count": 60,
   "id": "47b6d6c6",
   "metadata": {},
   "outputs": [],
   "source": [
    "one_hot_y_train = pd.get_dummies(train[\"Disease\"])\n",
    "one_hot_y_train.to_csv('y_train.csv')\n",
    "one_hot_y_test = pd.get_dummies(test[\"Disease\"])\n",
    "one_hot_y_test.to_csv('y_test.csv')"
   ]
  },
  {
   "cell_type": "code",
   "execution_count": 78,
   "id": "d35538bd",
   "metadata": {},
   "outputs": [
    {
     "name": "stdout",
     "output_type": "stream",
     "text": [
      "Epoch 1/4\n",
      "123/123 [==============================] - 1s 2ms/step - loss: 0.0150 - accuracy: 0.6359\n",
      "Epoch 2/4\n",
      "123/123 [==============================] - 0s 2ms/step - loss: 3.3372e-04 - accuracy: 0.9995\n",
      "Epoch 3/4\n",
      "123/123 [==============================] - 0s 2ms/step - loss: 3.3674e-05 - accuracy: 1.0000\n",
      "Epoch 4/4\n",
      "123/123 [==============================] - 0s 2ms/step - loss: 1.6669e-05 - accuracy: 1.0000\n"
     ]
    }
   ],
   "source": [
    "model = tf.keras.models.Sequential([\n",
    "    tf.keras.layers.InputLayer(input_shape=(x_train.shape[1],)),\n",
    "    tf.keras.layers.Dense(131, activation='relu'),\n",
    "    tf.keras.layers.Dense(65, activation='relu'),\n",
    "    tf.keras.layers.Dense(41, activation='softmax')\n",
    "])\n",
    "model.compile(optimizer='adam', loss='mse',metrics=['accuracy'])\n",
    "history = model.fit(x_train, one_hot_y_train, epochs=4)"
   ]
  },
  {
   "cell_type": "code",
   "execution_count": 79,
   "id": "28d1d843",
   "metadata": {},
   "outputs": [
    {
     "name": "stdout",
     "output_type": "stream",
     "text": [
      "INFO:tensorflow:Assets written to: saved_models/model\\assets\n"
     ]
    }
   ],
   "source": [
    "model.save('saved_models/model')"
   ]
  },
  {
   "cell_type": "code",
   "execution_count": 85,
   "id": "b66e9849",
   "metadata": {},
   "outputs": [
    {
     "name": "stdout",
     "output_type": "stream",
     "text": [
      "1/1 [==============================] - 0s 100ms/step\n"
     ]
    },
    {
     "data": {
      "text/plain": [
       "array([[1.04200002e-03, 1.76973594e-03, 4.85311757e-04, 5.85127564e-04,\n",
       "        1.73707667e-03, 3.47908353e-04, 1.57379929e-03, 9.40198152e-05,\n",
       "        2.87497940e-04, 2.68864539e-03, 9.85230872e-05, 7.62374781e-04,\n",
       "        1.14884897e-04, 2.40809415e-04, 6.17659010e-04, 1.53308024e-03,\n",
       "        7.34297326e-03, 4.28308360e-03, 9.51460660e-01, 3.58462748e-05,\n",
       "        5.76413760e-04, 8.20671907e-04, 3.30076495e-04, 8.96114274e-04,\n",
       "        1.13479655e-04, 5.53165388e-04, 1.05513318e-04, 1.07322405e-04,\n",
       "        2.03431048e-03, 1.03680394e-03, 2.83225119e-04, 9.14543052e-05,\n",
       "        3.20859300e-03, 4.19581356e-03, 1.70385884e-03, 4.18749900e-04,\n",
       "        3.18849878e-03, 1.13213850e-04, 2.02959171e-03, 2.81854154e-04,\n",
       "        8.10463214e-04]], dtype=float32)"
      ]
     },
     "execution_count": 85,
     "metadata": {},
     "output_type": "execute_result"
    }
   ],
   "source": [
    "model.predict([[0,0,0,0,0,0,0,0,0,0,0,1,0,1,0,0,0,0,0,0,0,0,0,0,0,0,0,0,0,0,0,0,0,0,0,0,0,0,0,0,0,1,0,0,0,0,0,0,0,0,0,0,0,0,0,0,0,0,0,0,0,0,0,0,0,0,0,0,0,0,0,0,0,0,0,0,0,0,0,0,0,0,0,0,0,0,0,0,0,0,0,0,0,0,0,0,0,0,0,0,0,0,0,0,0,0,0,0,0,0,0,0,0,0,0,0,0,0,0,0,0,0,0,0,0,0,0,0,0,0,0]])"
   ]
  }
 ],
 "metadata": {
  "kernelspec": {
   "display_name": "Python 3 (ipykernel)",
   "language": "python",
   "name": "python3"
  },
  "language_info": {
   "codemirror_mode": {
    "name": "ipython",
    "version": 3
   },
   "file_extension": ".py",
   "mimetype": "text/x-python",
   "name": "python",
   "nbconvert_exporter": "python",
   "pygments_lexer": "ipython3",
   "version": "3.10.9"
  }
 },
 "nbformat": 4,
 "nbformat_minor": 5
}
